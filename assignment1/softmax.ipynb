{
 "cells": [
  {
   "cell_type": "markdown",
   "metadata": {},
   "source": [
    "# Softmax exercise\n",
    "\n",
    "*Complete and hand in this completed worksheet (including its outputs and any supporting code outside of the worksheet) with your assignment submission. For more details see the [assignments page](http://vision.stanford.edu/teaching/cs231n/assignments.html) on the course website.*\n",
    "\n",
    "This exercise is analogous to the SVM exercise. You will:\n",
    "\n",
    "- implement a fully-vectorized **loss function** for the Softmax classifier\n",
    "- implement the fully-vectorized expression for its **analytic gradient**\n",
    "- **check your implementation** with numerical gradient\n",
    "- use a validation set to **tune the learning rate and regularization** strength\n",
    "- **optimize** the loss function with **SGD**\n",
    "- **visualize** the final learned weights\n"
   ]
  },
  {
   "cell_type": "code",
   "execution_count": 1,
   "metadata": {},
   "outputs": [],
   "source": [
    "import random\n",
    "import numpy as np\n",
    "from cs231n.data_utils import load_CIFAR10\n",
    "import matplotlib.pyplot as plt\n",
    "\n",
    "from __future__ import print_function\n",
    "\n",
    "%matplotlib inline\n",
    "plt.rcParams['figure.figsize'] = (10.0, 8.0) # set default size of plots\n",
    "plt.rcParams['image.interpolation'] = 'nearest'\n",
    "plt.rcParams['image.cmap'] = 'gray'\n",
    "\n",
    "# for auto-reloading extenrnal modules\n",
    "# see http://stackoverflow.com/questions/1907993/autoreload-of-modules-in-ipython\n",
    "%load_ext autoreload\n",
    "%autoreload 2"
   ]
  },
  {
   "cell_type": "code",
   "execution_count": 7,
   "metadata": {},
   "outputs": [
    {
     "name": "stdout",
     "output_type": "stream",
     "text": [
      "Clear previously loaded data.\n",
      "Train data shape:  (49000, 3073)\n",
      "Train labels shape:  (49000,)\n",
      "Validation data shape:  (1000, 3073)\n",
      "Validation labels shape:  (1000,)\n",
      "Test data shape:  (1000, 3073)\n",
      "Test labels shape:  (1000,)\n",
      "dev data shape:  (500, 3073)\n",
      "dev labels shape:  (500,)\n"
     ]
    }
   ],
   "source": [
    "def get_CIFAR10_data(num_training=49000, num_validation=1000, num_test=1000, num_dev=500):\n",
    "    \"\"\"\n",
    "    Load the CIFAR-10 dataset from disk and perform preprocessing to prepare\n",
    "    it for the linear classifier. These are the same steps as we used for the\n",
    "    SVM, but condensed to a single function.  \n",
    "    \"\"\"\n",
    "    # Load the raw CIFAR-10 data\n",
    "    cifar10_dir = 'cs231n/datasets/cifar-10-batches-py'\n",
    "    \n",
    "    X_train, y_train, X_test, y_test = load_CIFAR10(cifar10_dir)\n",
    "    \n",
    "    # subsample the data\n",
    "    mask = list(range(num_training, num_training + num_validation))\n",
    "    X_val = X_train[mask]\n",
    "    y_val = y_train[mask]\n",
    "    mask = list(range(num_training))\n",
    "    X_train = X_train[mask]\n",
    "    y_train = y_train[mask]\n",
    "    mask = list(range(num_test))\n",
    "    X_test = X_test[mask]\n",
    "    y_test = y_test[mask]\n",
    "    mask = np.random.choice(num_training, num_dev, replace=False)\n",
    "    X_dev = X_train[mask]\n",
    "    y_dev = y_train[mask]\n",
    "    \n",
    "    # Preprocessing: reshape the image data into rows\n",
    "    X_train = np.reshape(X_train, (X_train.shape[0], -1))\n",
    "    X_val = np.reshape(X_val, (X_val.shape[0], -1))\n",
    "    X_test = np.reshape(X_test, (X_test.shape[0], -1))\n",
    "    X_dev = np.reshape(X_dev, (X_dev.shape[0], -1))\n",
    "    \n",
    "    # Normalize the data: subtract the mean image\n",
    "    mean_image = np.mean(X_train, axis = 0)\n",
    "    X_train -= mean_image\n",
    "    X_val -= mean_image\n",
    "    X_test -= mean_image\n",
    "    X_dev -= mean_image\n",
    "    \n",
    "    # add bias dimension and transform into columns\n",
    "    X_train = np.hstack([X_train, np.ones((X_train.shape[0], 1))])\n",
    "    X_val = np.hstack([X_val, np.ones((X_val.shape[0], 1))])\n",
    "    X_test = np.hstack([X_test, np.ones((X_test.shape[0], 1))])\n",
    "    X_dev = np.hstack([X_dev, np.ones((X_dev.shape[0], 1))])\n",
    "    \n",
    "    return X_train, y_train, X_val, y_val, X_test, y_test, X_dev, y_dev\n",
    "\n",
    "\n",
    "# Cleaning up variables to prevent loading data multiple times (which may cause memory issue)\n",
    "try:\n",
    "   del X_train, y_train\n",
    "   del X_test, y_test\n",
    "   print('Clear previously loaded data.')\n",
    "except:\n",
    "   pass\n",
    "\n",
    "# Invoke the above function to get our data.\n",
    "X_train, y_train, X_val, y_val, X_test, y_test, X_dev, y_dev = get_CIFAR10_data()\n",
    "print('Train data shape: ', X_train.shape)\n",
    "print('Train labels shape: ', y_train.shape)\n",
    "print('Validation data shape: ', X_val.shape)\n",
    "print('Validation labels shape: ', y_val.shape)\n",
    "print('Test data shape: ', X_test.shape)\n",
    "print('Test labels shape: ', y_test.shape)\n",
    "print('dev data shape: ', X_dev.shape)\n",
    "print('dev labels shape: ', y_dev.shape)"
   ]
  },
  {
   "cell_type": "markdown",
   "metadata": {},
   "source": [
    "## Softmax Classifier\n",
    "\n",
    "Your code for this section will all be written inside **cs231n/classifiers/softmax.py**. \n"
   ]
  },
  {
   "cell_type": "code",
   "execution_count": 3,
   "metadata": {},
   "outputs": [
    {
     "name": "stdout",
     "output_type": "stream",
     "text": [
      "[-0.11465911  0.10692893 -0.28343096  0.06346946  0.2178054  -0.05083128\n",
      " -0.04885855  0.26296542 -0.29651723  0.26953479]\n",
      "[-0.3841939  -0.16260586 -0.55296575 -0.20606533 -0.05172939 -0.32036607\n",
      " -0.31839334 -0.00656937 -0.56605202  0.        ]\n",
      "loss: 2.348167\n",
      "sanity check: 2.302585\n"
     ]
    }
   ],
   "source": [
    "# First implement the naive softmax loss function with nested loops.\n",
    "# Open the file cs231n/classifiers/softmax.py and implement the\n",
    "# softmax_loss_naive function.\n",
    "\n",
    "from cs231n.classifiers.softmax import softmax_loss_naive\n",
    "import time\n",
    "\n",
    "# Generate a random softmax weight matrix and use it to compute the loss.\n",
    "W = np.random.randn(3073, 10) * 0.0001\n",
    "loss, grad = softmax_loss_naive(W, X_dev, y_dev, 0.0)\n",
    "\n",
    "# As a rough sanity check, our loss should be something close to -log(0.1).\n",
    "print('loss: %f' % loss)\n",
    "print('sanity check: %f' % (-np.log(0.1)))"
   ]
  },
  {
   "cell_type": "markdown",
   "metadata": {},
   "source": [
    "## Inline Question 1:\n",
    "Why do we expect our loss to be close to -log(0.1)? Explain briefly.**\n",
    "\n",
    "**Your answer:** *Fill this in*\n",
    "因为经过loss函数是-log(exp(f(yi)/sigma(exp(f(j)))，而每一个计算出的f值是差不多相等的（真实的计算出的scores应该要大，因此最后这个值应当要越小越好）"
   ]
  },
  {
   "cell_type": "code",
   "execution_count": 49,
   "metadata": {},
   "outputs": [
    {
     "name": "stdout",
     "output_type": "stream",
     "text": [
      "numerical: -5.136931 analytic: -5.136931, relative error: 1.786734e-09\n",
      "numerical: -1.288391 analytic: -1.288391, relative error: 2.305799e-08\n",
      "numerical: -0.603485 analytic: -0.603485, relative error: 5.003434e-08\n",
      "numerical: 1.901612 analytic: 1.901612, relative error: 1.461872e-08\n",
      "numerical: 0.507807 analytic: 0.507807, relative error: 1.156796e-09\n",
      "numerical: 2.214400 analytic: 2.214400, relative error: 2.324944e-08\n",
      "numerical: -0.073675 analytic: -0.073675, relative error: 1.086519e-07\n",
      "numerical: -1.103983 analytic: -1.103983, relative error: 2.748636e-08\n",
      "numerical: -0.266338 analytic: -0.266338, relative error: 1.841867e-07\n",
      "numerical: -0.721815 analytic: -0.721816, relative error: 6.390169e-08\n",
      "numerical: 2.053716 analytic: 2.053716, relative error: 3.709868e-08\n",
      "numerical: 2.967011 analytic: 2.967011, relative error: 1.261455e-08\n",
      "numerical: -4.484109 analytic: -4.484109, relative error: 1.417037e-08\n",
      "numerical: -1.668744 analytic: -1.668744, relative error: 2.616724e-09\n",
      "numerical: 0.017708 analytic: 0.017708, relative error: 1.218730e-06\n",
      "numerical: -0.721494 analytic: -0.721494, relative error: 1.421566e-08\n",
      "numerical: 2.590455 analytic: 2.590455, relative error: 2.210834e-08\n",
      "numerical: -0.451345 analytic: -0.451345, relative error: 6.601465e-08\n",
      "numerical: 2.522082 analytic: 2.522082, relative error: 1.040377e-08\n",
      "numerical: -0.460020 analytic: -0.460020, relative error: 5.622006e-08\n"
     ]
    }
   ],
   "source": [
    "# Complete the implementation of softmax_loss_naive and implement a (naive)\n",
    "# version of the gradient that uses nested loops.\n",
    "loss, grad = softmax_loss_naive(W, X_dev, y_dev, 0.0)\n",
    "\n",
    "# As we did for the SVM, use numeric gradient checking as a debugging tool.\n",
    "# The numeric gradient should be close to the analytic gradient.\n",
    "from cs231n.gradient_check import grad_check_sparse\n",
    "f = lambda w: softmax_loss_naive(w, X_dev, y_dev, 0.0)[0]\n",
    "grad_numerical = grad_check_sparse(f, W, grad, 10)\n",
    "\n",
    "# similar to SVM case, do another gradient check with regularization\n",
    "loss, grad = softmax_loss_naive(W, X_dev, y_dev, 5e1)\n",
    "f = lambda w: softmax_loss_naive(w, X_dev, y_dev, 5e1)[0]\n",
    "grad_numerical = grad_check_sparse(f, W, grad, 10)"
   ]
  },
  {
   "cell_type": "code",
   "execution_count": 58,
   "metadata": {},
   "outputs": [
    {
     "name": "stdout",
     "output_type": "stream",
     "text": [
      "naive loss: 2.387697e+00 computed in 0.114983s\n",
      "[[ -2.57219036e+00  -2.53763038e+00   6.21872809e-01 ...,  -1.90924948e+00\n",
      "   -1.29126542e+00   5.79665565e-01]\n",
      " [ -3.30478014e+00  -2.56072086e+00   3.21974986e-01 ...,  -2.52695505e+00\n",
      "   -2.62560970e+00   3.77190022e-01]\n",
      " [ -4.95016915e+00  -2.59677707e+00   7.16372797e-01 ...,  -2.70694980e+00\n",
      "   -4.57120579e+00  -2.23180925e-01]\n",
      " ..., \n",
      " [ -2.04113884e+00  -1.11862608e+00   3.77465572e-01 ...,  -1.68267839e+00\n",
      "    1.80483231e+00   3.01995027e+00]\n",
      " [ -3.38528543e+00  -1.43862625e+00   8.08754798e-01 ...,  -2.79492378e-01\n",
      "   -9.65087478e-02   2.86170212e+00]\n",
      " [ -1.29908750e-02  -7.09525142e-03  -9.77450906e-03 ...,  -1.25943218e-02\n",
      "   -7.34402325e-04   4.15395405e-02]]\n",
      "vectorized loss: 2.387697e+00 computed in 0.081278s\n",
      "Loss difference: 0.000000\n",
      "Gradient difference: 0.000000\n"
     ]
    }
   ],
   "source": [
    "# Now that we have a naive implementation of the softmax loss function and its gradient,\n",
    "# implement a vectorized version in softmax_loss_vectorized.\n",
    "# The two versions should compute the same results, but the vectorized version should be\n",
    "# much faster.\n",
    "tic = time.time()\n",
    "loss_naive, grad_naive = softmax_loss_naive(W, X_dev, y_dev, 0.000005)\n",
    "toc = time.time()\n",
    "print('naive loss: %e computed in %fs' % (loss_naive, toc - tic))\n",
    "\n",
    "from cs231n.classifiers.softmax import softmax_loss_vectorized\n",
    "tic = time.time()\n",
    "loss_vectorized, grad_vectorized = softmax_loss_vectorized(W, X_dev, y_dev, 0.000005)\n",
    "toc = time.time()\n",
    "print('vectorized loss: %e computed in %fs' % (loss_vectorized, toc - tic))\n",
    "\n",
    "# As we did for the SVM, we use the Frobenius norm to compare the two versions\n",
    "# of the gradient.\n",
    "grad_difference = np.linalg.norm(grad_naive - grad_vectorized, ord='fro')\n",
    "print('Loss difference: %f' % np.abs(loss_naive - loss_vectorized))\n",
    "print('Gradient difference: %f' % grad_difference)"
   ]
  },
  {
   "cell_type": "code",
   "execution_count": 62,
   "metadata": {},
   "outputs": [
    {
     "name": "stdout",
     "output_type": "stream",
     "text": [
      "iteration 0 / 1000: loss 389.321331\n",
      "iteration 100 / 1000: loss 234.801772\n",
      "iteration 200 / 1000: loss 142.945978\n",
      "iteration 300 / 1000: loss 87.121031\n",
      "iteration 400 / 1000: loss 53.597415\n",
      "iteration 500 / 1000: loss 33.052345\n",
      "iteration 600 / 1000: loss 20.787986\n",
      "iteration 700 / 1000: loss 13.426621\n",
      "iteration 800 / 1000: loss 8.868321\n",
      "iteration 900 / 1000: loss 6.225084\n",
      "training accuracy: 0.338469\n",
      "validation accuracy: 0.346000\n",
      "iteration 0 / 1000: loss 783.254595\n",
      "iteration 100 / 1000: loss 287.351749\n",
      "iteration 200 / 1000: loss 106.492524\n",
      "iteration 300 / 1000: loss 40.272189\n",
      "iteration 400 / 1000: loss 15.970648\n",
      "iteration 500 / 1000: loss 7.191927\n",
      "iteration 600 / 1000: loss 4.022105\n",
      "iteration 700 / 1000: loss 2.733836\n",
      "iteration 800 / 1000: loss 2.273230\n",
      "iteration 900 / 1000: loss 2.156589\n",
      "training accuracy: 0.325776\n",
      "validation accuracy: 0.348000\n",
      "iteration 0 / 1000: loss 388.235786\n",
      "iteration 100 / 1000: loss 32.555750\n",
      "iteration 200 / 1000: loss 4.528614\n",
      "iteration 300 / 1000: loss 2.279267\n",
      "iteration 400 / 1000: loss 2.033646\n",
      "iteration 500 / 1000: loss 1.976340\n",
      "iteration 600 / 1000: loss 2.031217\n",
      "iteration 700 / 1000: loss 2.030332\n",
      "iteration 800 / 1000: loss 1.977197\n",
      "iteration 900 / 1000: loss 2.016848\n",
      "training accuracy: 0.334408\n",
      "validation accuracy: 0.360000\n",
      "iteration 0 / 1000: loss 780.675473\n",
      "iteration 100 / 1000: loss 6.933559\n",
      "iteration 200 / 1000: loss 2.071359\n",
      "iteration 300 / 1000: loss 2.086680\n",
      "iteration 400 / 1000: loss 2.092467\n",
      "iteration 500 / 1000: loss 2.135869\n",
      "iteration 600 / 1000: loss 2.092327\n",
      "iteration 700 / 1000: loss 2.057003\n",
      "iteration 800 / 1000: loss 2.099778\n",
      "iteration 900 / 1000: loss 2.121540\n",
      "training accuracy: 0.319449\n",
      "validation accuracy: 0.347000\n",
      "{(1e-07, 25000.0): (0.33846938775510205, 0.34599999999999997), (1e-07, 50000.0): (0.32577551020408163, 0.34799999999999998), (5e-07, 25000.0): (0.33440816326530615, 0.35999999999999999), (5e-07, 50000.0): (0.31944897959183671, 0.34699999999999998)}\n",
      "lr 1.000000e-07 reg 2.500000e+04 train accuracy: 0.338469 val accuracy: 0.346000\n",
      "lr 1.000000e-07 reg 5.000000e+04 train accuracy: 0.325776 val accuracy: 0.348000\n",
      "lr 5.000000e-07 reg 2.500000e+04 train accuracy: 0.334408 val accuracy: 0.360000\n",
      "lr 5.000000e-07 reg 5.000000e+04 train accuracy: 0.319449 val accuracy: 0.347000\n",
      "best validation accuracy achieved during cross-validation: 0.360000\n"
     ]
    }
   ],
   "source": [
    "# Use the validation set to tune hyperparameters (regularization strength and\n",
    "# learning rate). You should experiment with different ranges for the learning\n",
    "# rates and regularization strengths; if you are careful you should be able to\n",
    "# get a classification accuracy of over 0.35 on the validation set.\n",
    "from cs231n.classifiers import Softmax\n",
    "results = {}\n",
    "best_val = -1\n",
    "best_softmax = None\n",
    "learning_rates = [1e-7, 5e-7]\n",
    "regularization_strengths = [2.5e4, 5e4]\n",
    "\n",
    "################################################################################\n",
    "# TODO:                                                                        #\n",
    "# Use the validation set to set the learning rate and regularization strength. #\n",
    "# This should be identical to the validation that you did for the SVM; save    #\n",
    "# the best trained softmax classifer in best_softmax.                          #\n",
    "################################################################################\n",
    "\n",
    "for i in learning_rates:\n",
    "    for j in regularization_strengths:\n",
    "        softmax = Softmax()\n",
    "        loss_hist = softmax.train(X_train, y_train, learning_rate=i, reg=j,\n",
    "                      num_iters=1000, verbose=True) #这个输出是一个一维数组，长度是num_iter，即每次迭代的loss大小\n",
    "        y_train_pred = softmax.predict(X_train) \n",
    "        train_accuracy = np.mean(y_train == y_train_pred) #计算出训练集的准确度\n",
    "        print('training accuracy: %f' % train_accuracy)\n",
    "        y_val_pred = softmax.predict(X_val)\n",
    "        validation_accuracy = np.mean(y_val == y_val_pred) #计算出验证集的准确度\n",
    "        print('validation accuracy: %f' % validation_accuracy)\n",
    "        results[(i, j)] = (train_accuracy, validation_accuracy) #把结果保存到map里面\n",
    "        if validation_accuracy > best_val:\n",
    "            best_val = validation_accuracy #max(best_val, validation_accuracy)\n",
    "            best_softmax = softmax\n",
    "        \n",
    "print(results)       \n",
    "\n",
    "\n",
    "################################################################################\n",
    "#                              END OF YOUR CODE                                #\n",
    "################################################################################\n",
    "    \n",
    "# Print out results.\n",
    "for lr, reg in sorted(results):\n",
    "    train_accuracy, val_accuracy = results[(lr, reg)]\n",
    "    print('lr %e reg %e train accuracy: %f val accuracy: %f' % (\n",
    "                lr, reg, train_accuracy, val_accuracy))\n",
    "    \n",
    "print('best validation accuracy achieved during cross-validation: %f' % best_val)"
   ]
  },
  {
   "cell_type": "code",
   "execution_count": 63,
   "metadata": {},
   "outputs": [
    {
     "name": "stdout",
     "output_type": "stream",
     "text": [
      "softmax on raw pixels final test set accuracy: 0.344000\n"
     ]
    }
   ],
   "source": [
    "# evaluate on test set\n",
    "# Evaluate the best softmax on test set\n",
    "y_test_pred = best_softmax.predict(X_test)\n",
    "test_accuracy = np.mean(y_test == y_test_pred)\n",
    "print('softmax on raw pixels final test set accuracy: %f' % (test_accuracy, ))"
   ]
  },
  {
   "cell_type": "markdown",
   "metadata": {},
   "source": [
    "**Inline Question** - *True or False*\n",
    "\n",
    "It's possible to add a new datapoint to a training set that would leave the SVM loss unchanged, but this is not the case with the Softmax classifier loss.\n",
    "\n",
    "*Your answer*:\n",
    "\n",
    "*Your explanation*:"
   ]
  },
  {
   "cell_type": "code",
   "execution_count": 64,
   "metadata": {},
   "outputs": [
    {
     "data": {
      "image/png": "[encoded data removed]",
      "text/plain": [
       "<Figure size 432x288 with 10 Axes>"
      ]
     },
     "metadata": {},
     "output_type": "display_data"
    }
   ],
   "source": [
    "# Visualize the learned weights for each class\n",
    "w = best_softmax.W[:-1,:] # strip out the bias\n",
    "w = w.reshape(32, 32, 3, 10)\n",
    "\n",
    "w_min, w_max = np.min(w), np.max(w)\n",
    "\n",
    "classes = ['plane', 'car', 'bird', 'cat', 'deer', 'dog', 'frog', 'horse', 'ship', 'truck']\n",
    "for i in range(10):\n",
    "    plt.subplot(2, 5, i + 1)\n",
    "    \n",
    "    # Rescale the weights to be between 0 and 255\n",
    "    wimg = 255.0 * (w[:, :, :, i].squeeze() - w_min) / (w_max - w_min)\n",
    "    plt.imshow(wimg.astype('uint8'))\n",
    "    plt.axis('off')\n",
    "    plt.title(classes[i])"
   ]
  },
  {
   "cell_type": "code",
   "execution_count": null,
   "metadata": {},
   "outputs": [],
   "source": []
  }
 ],
 "metadata": {
  "kernelspec": {
   "display_name": "Python 3",
   "language": "python",
   "name": "python3"
  },
  "language_info": {
   "codemirror_mode": {
    "name": "ipython",
    "version": 3
   },
   "file_extension": ".py",
   "mimetype": "text/x-python",
   "name": "python",
   "nbconvert_exporter": "python",
   "pygments_lexer": "ipython3",
   "version": "3.6.5"
  }
 },
 "nbformat": 4,
 "nbformat_minor": 1
}
